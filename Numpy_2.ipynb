{
 "cells": [
  {
   "cell_type": "markdown",
   "metadata": {
    "id": "KRH0lpS88abX"
   },
   "source": [
    "### NumPy Exercises\n",
    "##### Now that we've learned about NumPy let's test your knowledge. We'll start off with a few simple tasks and then you'll be asked some more complicated questions.\n",
    "##### IMPORTANT NOTE! Make sure you don't run the cells directly above the example output shown, otherwise you will end up writing over the example output!"
   ]
  },
  {
   "cell_type": "code",
   "execution_count": 39,
   "metadata": {
    "id": "9KzpS47XBTWm"
   },
   "outputs": [],
   "source": [
    "import numpy as np\n",
    "import pandas as pd\n"
   ]
  },
  {
   "cell_type": "markdown",
   "metadata": {
    "id": "V6ntuSvDBZ2G"
   },
   "source": [
    "###### 1. Write a NumPy program to find the missing data in a given array."
   ]
  },
  {
   "cell_type": "code",
   "execution_count": 2,
   "metadata": {
    "id": "Z94k4mpaBClu"
   },
   "outputs": [
    {
     "name": "stdout",
     "output_type": "stream",
     "text": [
      "[['3' '2' 'nan' '1']\n",
      " ['10' '12' '10' '9']\n",
      " ['5' 'nan' '1' 'nan']]\n"
     ]
    },
    {
     "data": {
      "text/plain": [
       "array([['False', 'False', 'True', 'False'],\n",
       "       ['False', 'False', 'False', 'False'],\n",
       "       ['False', 'True', 'False', 'True']], dtype='<U5')"
      ]
     },
     "execution_count": 2,
     "metadata": {},
     "output_type": "execute_result"
    }
   ],
   "source": [
    "### code here\n",
    "array = np.array([[3,2,'nan',1],[10,12,10,9],[5,'nan',1,'nan']])\n",
    "print(array)\n",
    "np.where(array=='nan','True','False')"
   ]
  },
  {
   "cell_type": "code",
   "execution_count": 3,
   "metadata": {
    "colab": {
     "base_uri": "https://localhost:8080/"
    },
    "id": "yAazoe4kBfJ-",
    "outputId": "2439fd36-9243-49e0-ef2a-f19dca335a17"
   },
   "outputs": [],
   "source": [
    "## sample output"
   ]
  },
  {
   "cell_type": "markdown",
   "metadata": {
    "id": "jT038BYtB0la"
   },
   "source": [
    "##### 2. Write a NumPy program to check whether two arrays are equal (element wise) or not."
   ]
  },
  {
   "cell_type": "code",
   "execution_count": 6,
   "metadata": {
    "id": "0aJczGNjBfL1"
   },
   "outputs": [
    {
     "name": "stdout",
     "output_type": "stream",
     "text": [
      "True\n"
     ]
    }
   ],
   "source": [
    "### code here \n",
    "A1= np.arange(0,4).reshape(2,2)\n",
    "A2 = np.arange(0,4).reshape(2,2)\n",
    "Array = np.array_equal(A1,A2)\n",
    "print(Array)\n"
   ]
  },
  {
   "cell_type": "markdown",
   "metadata": {
    "id": "XhX1H1M_CI7S"
   },
   "source": [
    "###### 3. Write a NumPy program to create a 4x4 array with random values, now create a new array from the said array swapping first and last rows."
   ]
  },
  {
   "cell_type": "code",
   "execution_count": 8,
   "metadata": {
    "id": "3HazIhbtBfOq"
   },
   "outputs": [
    {
     "name": "stdout",
     "output_type": "stream",
     "text": [
      "[[ 0  1  2  3]\n",
      " [ 4  5  6  7]\n",
      " [ 8  9 10 11]\n",
      " [12 13 14 15]]\n",
      "[[12 13 14 15]\n",
      " [ 4  5  6  7]\n",
      " [ 8  9 10 11]\n",
      " [ 0  1  2  3]]\n"
     ]
    }
   ],
   "source": [
    "## code here\n",
    "array = np.arange(0,16).reshape(4,4)\n",
    "print(array)\n",
    "array[[0,-1],:]=array[[-1,0],:]\n",
    "print(array)"
   ]
  },
  {
   "cell_type": "code",
   "execution_count": 15,
   "metadata": {},
   "outputs": [
    {
     "name": "stdout",
     "output_type": "stream",
     "text": [
      "[[ 0  1  2  3]\n",
      " [ 4  5  6  7]\n",
      " [ 8  9 10 11]\n",
      " [12 13 14 15]]\n",
      "[[12 13 14 15]\n",
      " [ 8  9 10 11]\n",
      " [ 4  5  6  7]\n",
      " [ 0  1  2  3]]\n"
     ]
    }
   ],
   "source": [
    "## code here\n",
    "array = np.arange(0,16).reshape(4,4)\n",
    "print(array)\n",
    "print(array[::-1])"
   ]
  },
  {
   "cell_type": "code",
   "execution_count": null,
   "metadata": {
    "colab": {
     "base_uri": "https://localhost:8080/"
    },
    "id": "FFNk8me9BfRL",
    "outputId": "10d0f2d3-97b5-4a46-ff16-44136e72c9d9"
   },
   "outputs": [
    {
     "name": "stdout",
     "output_type": "stream",
     "text": [
      "Original array:\n",
      "[[ 0  1  2  3]\n",
      " [ 4  5  6  7]\n",
      " [ 8  9 10 11]\n",
      " [12 13 14 15]]\n",
      "\n",
      "New array after swapping first and last rows of the said array:\n",
      "[[12 13 14 15]\n",
      " [ 8  9 10 11]\n",
      " [ 4  5  6  7]\n",
      " [ 0  1  2  3]]\n"
     ]
    }
   ],
   "source": [
    "## sample output"
   ]
  },
  {
   "cell_type": "markdown",
   "metadata": {
    "id": "BYgy22u_kqsB"
   },
   "source": [
    "###### 4. Write a NumPy program to convert a list and tuple into arrays."
   ]
  },
  {
   "cell_type": "code",
   "execution_count": 11,
   "metadata": {
    "id": "Hgmgw7J2BfUQ"
   },
   "outputs": [
    {
     "name": "stdout",
     "output_type": "stream",
     "text": [
      "[1 2 3 4]\n",
      "[3 4 5 6]\n"
     ]
    }
   ],
   "source": [
    "#### code here\n",
    "a=[1,2,3,4]\n",
    "b=(3,4,5,6)\n",
    "arr1=np.array(a)\n",
    "print(arr1)\n",
    "arr2=np.array(b)\n",
    "print(arr2)\n"
   ]
  },
  {
   "cell_type": "markdown",
   "metadata": {
    "id": "jzp2hg44k5O0"
   },
   "source": [
    "###### 5. Write a NumPy program to find common values between two arrays."
   ]
  },
  {
   "cell_type": "code",
   "execution_count": 21,
   "metadata": {
    "id": "1QMJVl3LBfWm"
   },
   "outputs": [
    {
     "name": "stdout",
     "output_type": "stream",
     "text": [
      "[6 7 8 9]\n",
      "[6 7 8 9]\n"
     ]
    }
   ],
   "source": [
    "### code here\n",
    "arr1=np.arange(1,10).reshape(3,3)\n",
    "arr2=np.arange(6,15).reshape(3,3)\n",
    "print(np.intersect1d(arr1,arr2))\n",
    "print(arr1[np.isin(arr1,arr2)])"
   ]
  },
  {
   "cell_type": "markdown",
   "metadata": {
    "id": "Llt6X9k66TMD"
   },
   "source": [
    "###### 6. Write a NumPy program to create a new shape to an array without changing its data."
   ]
  },
  {
   "cell_type": "code",
   "execution_count": 23,
   "metadata": {
    "id": "rNh8SssUBfZQ"
   },
   "outputs": [
    {
     "data": {
      "text/plain": [
       "array([[1, 2, 3],\n",
       "       [4, 5, 6]])"
      ]
     },
     "execution_count": 23,
     "metadata": {},
     "output_type": "execute_result"
    }
   ],
   "source": [
    "### code here\n",
    "arr=np.arange(1,7).reshape(2,3)\n",
    "arr"
   ]
  },
  {
   "cell_type": "code",
   "execution_count": 24,
   "metadata": {
    "colab": {
     "base_uri": "https://localhost:8080/"
    },
    "id": "1yNEqa9pBfch",
    "outputId": "2377437d-096d-43cd-ca44-1d00a7db04b3"
   },
   "outputs": [
    {
     "data": {
      "text/plain": [
       "array([[1, 2],\n",
       "       [3, 4],\n",
       "       [5, 6]])"
      ]
     },
     "execution_count": 24,
     "metadata": {},
     "output_type": "execute_result"
    }
   ],
   "source": [
    "### sample output\n",
    "arr.reshape(3,2)"
   ]
  },
  {
   "cell_type": "markdown",
   "metadata": {
    "id": "nf03MRSR7JFB"
   },
   "source": [
    "###### 7. Write a NumPy program to count the frequency of unique values in numpy array."
   ]
  },
  {
   "cell_type": "code",
   "execution_count": 47,
   "metadata": {
    "id": "NqJxDKOs6dZN"
   },
   "outputs": [
    {
     "name": "stdout",
     "output_type": "stream",
     "text": [
      "[10 20 30 40 50] \n",
      " [3 4 2 2 1]\n"
     ]
    }
   ],
   "source": [
    "### code here\n",
    "arr=np.array([10,10,20,10,20,20,20,30,30,50,40,40])\n",
    "arr\n",
    "a,b= np.unique(arr,return_counts=True)\n",
    "print(a,'\\n',b)"
   ]
  },
  {
   "cell_type": "code",
   "execution_count": null,
   "metadata": {
    "colab": {
     "base_uri": "https://localhost:8080/"
    },
    "id": "ElvUfhXV6db6",
    "outputId": "61b70809-412a-472b-d7ca-c513b54150b5"
   },
   "outputs": [
    {
     "name": "stdout",
     "output_type": "stream",
     "text": [
      "Original array:\n",
      "[10 10 20 10 20 20 20 30 30 50 40 40]\n",
      "Frequency of unique values of the said array:\n",
      "[[10 20 30 40 50]\n",
      " [ 3  4  2  2  1]]\n"
     ]
    }
   ],
   "source": [
    "## sample output"
   ]
  },
  {
   "cell_type": "markdown",
   "metadata": {
    "id": "a5wvDisr9SGS"
   },
   "source": [
    "###### 8. Write a NumPy program to broadcast on different shapes of arrays where p(3,3) + q(3)."
   ]
  },
  {
   "cell_type": "code",
   "execution_count": 48,
   "metadata": {
    "id": "B3hjEaCw6dfJ"
   },
   "outputs": [
    {
     "data": {
      "text/plain": [
       "array([[10, 11, 12],\n",
       "       [11, 13, 15],\n",
       "       [14, 16, 18]])"
      ]
     },
     "execution_count": 48,
     "metadata": {},
     "output_type": "execute_result"
    }
   ],
   "source": [
    "### code here\n",
    "arr1= np.array([[0,0,0],[1,2,3],[4,5,6]])\n",
    "arr2= np.array([10,11,12])\n",
    "np.add(arr1,arr2)"
   ]
  },
  {
   "cell_type": "code",
   "execution_count": null,
   "metadata": {
    "colab": {
     "base_uri": "https://localhost:8080/"
    },
    "id": "0lteZrS-6dh0",
    "outputId": "e6a565a0-e734-4c5f-8705-ccb3f9c12270"
   },
   "outputs": [
    {
     "name": "stdout",
     "output_type": "stream",
     "text": [
      "Original arrays:\n",
      "Array-1\n",
      "[[0 0 0]\n",
      " [1 2 3]\n",
      " [4 5 6]]\n",
      "Array-2\n",
      "[10 11 12]\n",
      "\n",
      "New Array:\n",
      "[[10 11 12]\n",
      " [11 13 15]\n",
      " [14 16 18]]\n"
     ]
    }
   ],
   "source": [
    "## sample output"
   ]
  },
  {
   "cell_type": "markdown",
   "metadata": {
    "id": "W9mCoSxU92BL"
   },
   "source": [
    "###### 9. Write a NumPy program to extract all the elements of the second row from a given (4x4) array."
   ]
  },
  {
   "cell_type": "code",
   "execution_count": null,
   "metadata": {
    "id": "V88Mi3yhBfgI"
   },
   "outputs": [],
   "source": [
    "### code here"
   ]
  },
  {
   "cell_type": "code",
   "execution_count": 49,
   "metadata": {
    "colab": {
     "base_uri": "https://localhost:8080/"
    },
    "id": "ybbGis1E91S8",
    "outputId": "42123911-acc4-47c0-ccd1-be25b3b76737"
   },
   "outputs": [
    {
     "name": "stdout",
     "output_type": "stream",
     "text": [
      "Original array:\n",
      "[[ 0  1  2  3]\n",
      " [ 4  5  6  7]\n",
      " [ 8  9 10 11]\n",
      " [12 13 14 15]]\n",
      "\n",
      "Extracted data: Second row\n",
      "[4 5 6 7]\n"
     ]
    }
   ],
   "source": [
    "import numpy as np\n",
    "arra_data = np.arange(0,16).reshape((4, 4))\n",
    "print(\"Original array:\")\n",
    "print(arra_data)\n",
    "print(\"\\nExtracted data: Second row\")\n",
    "print(arra_data[1,:])"
   ]
  },
  {
   "cell_type": "markdown",
   "metadata": {
    "id": "t76Rc47gATll"
   },
   "source": [
    "###### 10. Write a NumPy program to extract third and fourth elements of the first and second rows from a given (4x4) array."
   ]
  },
  {
   "cell_type": "code",
   "execution_count": 55,
   "metadata": {
    "id": "tLyK4ieP91V_"
   },
   "outputs": [
    {
     "name": "stdout",
     "output_type": "stream",
     "text": [
      "[2, 3]\n",
      "[6, 7]\n"
     ]
    }
   ],
   "source": [
    "## code here\n",
    "arr=np.array([[0,1,2,3],[4,5,6,7],[8,9,10,11],[12,13,14,15]])\n",
    "print([arr[0][2],arr[0][3]])\n",
    "print([arr[1][2],arr[1][3]])\n"
   ]
  },
  {
   "cell_type": "code",
   "execution_count": null,
   "metadata": {
    "colab": {
     "base_uri": "https://localhost:8080/"
    },
    "id": "WzHXmOQ091Y1",
    "outputId": "ca0f6059-f622-4e59-c563-96b95ef291fa"
   },
   "outputs": [
    {
     "name": "stdout",
     "output_type": "stream",
     "text": [
      "Original array:\n",
      "[[ 0  1  2  3]\n",
      " [ 4  5  6  7]\n",
      " [ 8  9 10 11]\n",
      " [12 13 14 15]]\n",
      "\n",
      "Extracted data: Third and fourth elements of the first and second rows \n",
      "[[2 3]\n",
      " [6 7]]\n"
     ]
    }
   ],
   "source": [
    "## sample output\n"
   ]
  },
  {
   "cell_type": "markdown",
   "metadata": {
    "id": "mES8f4RDFxtM"
   },
   "source": [
    "###### 11. Write a NumPy program to get the dates of yesterday, today and tomorrow."
   ]
  },
  {
   "cell_type": "code",
   "execution_count": 57,
   "metadata": {
    "id": "fyBw7Uo-Aoad"
   },
   "outputs": [
    {
     "name": "stdout",
     "output_type": "stream",
     "text": [
      "Today: 2023-01-06\n",
      "Tomorrow: 2023-01-07\n",
      "Yesterday: 2023-01-05\n"
     ]
    }
   ],
   "source": [
    "### code here\n",
    "Today = np.datetime64(\"today\",\"D\")\n",
    "Tomorrow = Today+1\n",
    "Yesterday = Today-1\n",
    "print('Today:',Today)\n",
    "print('Tomorrow:',Tomorrow)\n",
    "print('Yesterday:',Yesterday)"
   ]
  },
  {
   "cell_type": "markdown",
   "metadata": {
    "id": "-y3xiL7_GZ3D"
   },
   "source": [
    "###### 12. Write a NumPy program to find the first Monday in May 2017."
   ]
  },
  {
   "cell_type": "code",
   "execution_count": 66,
   "metadata": {
    "id": "roe76-pSGNX4"
   },
   "outputs": [
    {
     "data": {
      "text/plain": [
       "numpy.datetime64('2017-05-01')"
      ]
     },
     "execution_count": 66,
     "metadata": {},
     "output_type": "execute_result"
    }
   ],
   "source": [
    "## code here\n",
    "arr=np.busday_offset('2017-05',0,weekmask='Mon')\n",
    "arr"
   ]
  },
  {
   "cell_type": "code",
   "execution_count": null,
   "metadata": {
    "colab": {
     "base_uri": "https://localhost:8080/"
    },
    "id": "gF_q2GENGNat",
    "outputId": "1d5a4aec-f19b-4a2d-9122-57c49d7fa6d2"
   },
   "outputs": [
    {
     "name": "stdout",
     "output_type": "stream",
     "text": [
      "First Monday in May 2017:\n",
      "2017-05-01\n"
     ]
    }
   ],
   "source": [
    "## sample output"
   ]
  },
  {
   "cell_type": "code",
   "execution_count": null,
   "metadata": {
    "id": "n94g4wnlGe2o"
   },
   "outputs": [],
   "source": []
  }
 ],
 "metadata": {
  "colab": {
   "collapsed_sections": [],
   "name": "Numpy_assignment_day_2.ipynb",
   "provenance": []
  },
  "kernelspec": {
   "display_name": "Python 3 (ipykernel)",
   "language": "python",
   "name": "python3"
  },
  "language_info": {
   "codemirror_mode": {
    "name": "ipython",
    "version": 3
   },
   "file_extension": ".py",
   "mimetype": "text/x-python",
   "name": "python",
   "nbconvert_exporter": "python",
   "pygments_lexer": "ipython3",
   "version": "3.9.13"
  }
 },
 "nbformat": 4,
 "nbformat_minor": 1
}
